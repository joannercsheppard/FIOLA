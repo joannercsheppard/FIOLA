{
 "cells": [
  {
   "cell_type": "markdown",
   "metadata": {
    "id": "d2vlgg-WGmJ2"
   },
   "source": [
    "# FIOLA demo pipeline"
   ]
  },
  {
   "cell_type": "markdown",
   "metadata": {
    "id": "O-FjmKHjXhqH"
   },
   "source": [
    "Pipeline for online analysis of fluorescence imaging data\n",
    "\n",
    "Voltage dataset courtesy of Karel Svoboda Lab (Janelia Research Campus).\n",
    "\n",
    "Calcium dataset courtesy of Sue Ann Koay and David Tank (Princeton University)\n",
    "\n",
    "@author: @agiovann, @caichangjia, @cxd00\n"
   ]
  },
  {
   "cell_type": "code",
   "execution_count": null,
   "metadata": {
    "id": "av-nLL8iXhqO"
   },
   "outputs": [],
   "source": [
    "from base64 import b64encode\n",
    "import caiman as cm\n",
    "from IPython.display import HTML, clear_output\n",
    "import imageio\n",
    "import logging\n",
    "import matplotlib\n",
    "import matplotlib.pyplot as plt\n",
    "import numpy as np\n",
    "import pyximport\n",
    "pyximport.install()\n",
    "import scipy\n",
    "from tensorflow.python.client import device_lib\n",
    "from time import time\n",
    "    \n",
    "from fiola.demo_initialize_calcium import run_caiman_init\n",
    "from fiola.fiolaparams import fiolaparams\n",
    "from fiola.fiola import FIOLA\n",
    "from fiola.utilities import download_demo, load, to_2D, movie_iterator, visualize\n",
    "\n",
    "logging.basicConfig(format=\n",
    "                    \"%(relativeCreated)12d [%(filename)s:%(funcName)20s():%(lineno)s]\"\\\n",
    "                    \"[%(process)d] %(message)s\",\n",
    "                    level=logging.ERROR)    \n",
    "logging.info(device_lib.list_local_devices()) # if GPU is not detected, try to reinstall tensorflow with pip install tensorflow==2.4.1\n"
   ]
  },
  {
   "cell_type": "markdown",
   "metadata": {
    "id": "11NCvrB67jGe"
   },
   "source": [
    "# Set up parameters"
   ]
  },
  {
   "cell_type": "code",
   "execution_count": null,
   "metadata": {
    "id": "6qfwsG4vqgpq"
   },
   "outputs": [],
   "source": [
    "folder = '/home/nel/CODE/test_fiola/FIOLA'\n",
    "mode = 'voltage'                    # 'voltage' or 'calcium 'fluorescence indicator\n",
    "# Parameter setting\n",
    "if mode == 'voltage':\n",
    "    fnames = download_demo(folder, 'demo_voltage_imaging.hdf5')\n",
    "    # setting params\n",
    "    # dataset dependent parameters\n",
    "    fr = 400                        # sample rate of the movie\n",
    "    \n",
    "    num_frames_init =  10000        # number of frames used for initialization\n",
    "    num_frames_total =  20000       # estimated total number of frames for processing, this is used for generating matrix to store data\n",
    "    offline_batch = 200             # number of frames for one batch to perform offline motion correction\n",
    "    batch = 1                       # number of frames processing at the same time using gpu. 1 for online processing. \n",
    "    flip = True                     # whether to flip signal to find spikes   \n",
    "    detrend = True                  # whether to remove the slow trend in the fluorescence data            \n",
    "    do_deconvolve = True            # If True, perform spike detection for voltage imaging or deconvolution for calcium imaging.\n",
    "    ms = [10, 10]                   # maximum shift in x and y axis respectively. Will not perform motion correction if None.\n",
    "    update_bg = True                # update background components for spatial footprints\n",
    "    filt_window = 15                # window size of median filter for removing the subthreshold activities. It can be integer or a list.\n",
    "                                    # an integer means the window size of the full median filter. Suggested values range [9, 15]. It needs to be an odd number. \n",
    "                                    # a list with two values [x, y] means an antisymmetric median filter which uses x past frames and y future frames.\n",
    "    minimal_thresh = 3.5            # minimal of the threshold for voltage spike detection. Suggested value range [2.8, 3.5] \n",
    "    template_window = 2             # half window size of the template; will not perform template matching if window size equals 0.  \n",
    "    nb = 1                          # number of background components\n",
    "    lag = 11                        # lag for retrieving the online result. 5 frames are suggested for calcium imaging. For voltage imaging, it needs to be larger than filt_window // 2 + template_window + 2. \n",
    "\n",
    "    options = {\n",
    "        'fnames': fnames,\n",
    "        'fr': fr,\n",
    "        'mode': mode,\n",
    "        'num_frames_init': num_frames_init, \n",
    "        'num_frames_total':num_frames_total,\n",
    "        'offline_batch': offline_batch,\n",
    "        'batch':batch,\n",
    "        'flip': flip,\n",
    "        'detrend': detrend,\n",
    "        'do_deconvolve': do_deconvolve,\n",
    "        'ms': ms,\n",
    "        'update_bg': update_bg,\n",
    "        'filt_window': filt_window,\n",
    "        'minimal_thresh': minimal_thresh,\n",
    "        'template_window':template_window, \n",
    "        'nb': nb, \n",
    "        'lag': lag}\n",
    "    \n",
    "    \n",
    "    logging.info('Loading Movie')\n",
    "    \n",
    "\n",
    "elif mode == 'calcium':\n",
    "    #fnames = download_demo(folder, 'demoMovie.tif') \n",
    "    fnames = download_demo(folder, 'Sue_2x_3000_40_-46.tif')\n",
    "    fr = 30                         # sample rate of the movie\n",
    "    \n",
    "    mode = 'calcium'                # 'voltage' or 'calcium 'fluorescence indicator\n",
    "    num_frames_init =   1000         # number of frames used for initialization\n",
    "    num_frames_total =  2000        # estimated total number of frames for processing, this is used for generating matrix to store data\n",
    "    offline_batch = 5               # number of frames for one batch to perform offline motion correction\n",
    "    batch= 1                        # number of frames processing at the same time using gpu. 1 for online processing. \n",
    "    flip = False                    # whether to flip signal to find spikes   \n",
    "    detrend = False                  # whether to remove the slow trend in the fluorescence data            \n",
    "    dc_param = 0.9995               # DC blocker parameter for removing the slow trend in the fluorescence data. It is usually between\n",
    "                                    # 0.99 and 1. Higher value will remove less trend. No detrending will perform if detrend=False.\n",
    "    do_deconvolve = True            # If True, perform spike detection for voltage imaging or deconvolution for calcium imaging.\n",
    "    ms = [5, 5]                     # maximum shift in x and y axis respectively. Will not perform motion correction if None.\n",
    "    center_dims = None              # template dimensions for motion correction. If None, the input will the the shape of the FOV\n",
    "    hals_movie = 'hp_thresh'        # apply hals on the movie high-pass filtered and thresholded with 0 (hp_thresh); movie only high-pass filtered (hp); \n",
    "                                    # original movie (orig); no HALS needed if the input is from CaImAn (when init_method is 'caiman' or 'weighted_masks')\n",
    "    n_split = 1                     # split neuron spatial footprints into n_split portion before performing matrix multiplication, increase the number when spatial masks are larger than 2GB\n",
    "    nb = 2                          # number of background components\n",
    "    trace_with_neg=True             # return trace with negative components (noise) if True; otherwise the trace is cutoff at 0\n",
    "    lag = 5                         # lag for retrieving the online result.\n",
    "                    \n",
    "    options = {\n",
    "        'fnames': fnames,\n",
    "        'fr': fr,\n",
    "        'mode': mode, \n",
    "        'num_frames_init': num_frames_init, \n",
    "        'num_frames_total':num_frames_total,\n",
    "        'offline_batch': offline_batch,\n",
    "        'batch':batch,\n",
    "        'flip': flip,\n",
    "        'detrend': detrend,\n",
    "        'dc_param': dc_param,            \n",
    "        'do_deconvolve': do_deconvolve,\n",
    "        'ms': ms,\n",
    "        'hals_movie': hals_movie,\n",
    "        'center_dims':center_dims, \n",
    "        'n_split': n_split,\n",
    "        'nb' : nb, \n",
    "        'trace_with_neg':trace_with_neg, \n",
    "        'lag': lag}\n",
    "else: \n",
    "    raise Exception('mode must be either calcium or voltage')"
   ]
  },
  {
   "cell_type": "markdown",
   "metadata": {
    "id": "i0-yFXA1A959"
   },
   "source": [
    "# Load movie.\n",
    "### If dealing with calcium data, run initialization with CaImAn"
   ]
  },
  {
   "cell_type": "code",
   "execution_count": null,
   "metadata": {
    "colab": {
     "base_uri": "https://localhost:8080/"
    },
    "id": "-Fq53_dtAe0G",
    "outputId": "62a9bb41-55a3-4e5b-f1a6-da27034207e4"
   },
   "outputs": [],
   "source": [
    "if mode == 'voltage':\n",
    "    logging.info('Loading Movie')\n",
    "    mov = cm.load(fnames, subindices=range(num_frames_init))\n",
    "    fnames_init = fnames.split('.')[0] + '_init.tif'\n",
    "    mov.save(fnames_init)\n",
    "    path_ROIs = download_demo(folder, 'demo_voltage_imaging_ROIs.hdf5')\n",
    "    mask = load(path_ROIs)\n",
    "    template = np.median(mov, 0)\n",
    "    \n",
    "elif mode == 'calcium':\n",
    "    mov = cm.load(fnames, subindices=range(num_frames_init))\n",
    "    fnames_init = fnames.split('.')[0] + '_init.tif'\n",
    "    mov.save(fnames_init)\n",
    "    \n",
    "    # run caiman initialization. User might need to change the parameters \n",
    "    # inside the file to get good initialization result\n",
    "    caiman_file = run_caiman_init(fnames_init, pw_rigid=True, \n",
    "                                      max_shifts=ms, gnb=nb, rf=15, K=4, gSig=[4, 4])\n",
    "    \n",
    "    # load results of initialization\n",
    "    cnm2 = cm.source_extraction.cnmf.cnmf.load_CNMF(caiman_file)\n",
    "    estimates = cnm2.estimates\n",
    "    template = cnm2.estimates.template\n",
    "    Cn = cnm2.estimates.Cn\n"
   ]
  },
  {
   "cell_type": "markdown",
   "metadata": {
    "id": "RWOJYcCNAQw4"
   },
   "source": [
    "### Display calculated template and overlaid neuron masks from initialization."
   ]
  },
  {
   "cell_type": "code",
   "execution_count": null,
   "metadata": {
    "colab": {
     "background_save": true
    },
    "id": "vMxD_hCW3jJR"
   },
   "outputs": [],
   "source": [
    "display_images = True\n",
    "if display_images:\n",
    "    fig, ax = plt.subplots(1, 2)\n",
    "    ax[0].imshow(template, vmax=np.percentile(template, 99.9), cmap='gray')\n",
    "    ax[0].set_title('median img')\n",
    "    ax[1].set_title('masks')\n",
    "    if mode == 'voltage':\n",
    "        ax[1].imshow(mask.mean(0), cmap='gray')\n",
    "    elif mode == 'calcium':\n",
    "        Ab = np.hstack((estimates.A.toarray(), estimates.b))\n",
    "        Ab = Ab.reshape([mov.shape[1], mov.shape[2], -1], order='F').transpose([2, 0, 1])\n",
    "        ax[1].imshow(Ab.mean(0), cmap='gray')"
   ]
  },
  {
   "cell_type": "markdown",
   "metadata": {
    "id": "V-mWO-mQ7ypg"
   },
   "source": [
    "# GPU motion correction"
   ]
  },
  {
   "cell_type": "code",
   "execution_count": null,
   "metadata": {
    "colab": {
     "background_save": true
    },
    "id": "tWu0YXF1XhqP"
   },
   "outputs": [],
   "source": [
    "#%% Run FIOLA: set variable to true to include that portion of the pipeline.\n",
    "# example motion correction\n",
    "motion_correct = True\n",
    "# example source separation\n",
    "do_nnls = True"
   ]
  },
  {
   "cell_type": "code",
   "execution_count": null,
   "metadata": {
    "colab": {
     "background_save": true
    },
    "id": "2Yy_x0wBrD3m"
   },
   "outputs": [],
   "source": [
    "#%% Mot corr only\n",
    "if motion_correct:\n",
    "    params = fiolaparams(params_dict=options)\n",
    "    fio = FIOLA(params=params)\n",
    "    # run motion correction on GPU on the initialization movie\n",
    "    mc_nn_mov, shifts_fiola, _ = fio.fit_gpu_motion_correction(mov, template, fio.params.mc_nnls['offline_batch'], min_mov=mov.min())             \n",
    "else:    \n",
    "    mc_nn_mov = mov"
   ]
  },
  {
   "cell_type": "code",
   "execution_count": null,
   "metadata": {},
   "outputs": [],
   "source": [
    "if motion_correct:\n",
    "    plt.figure()\n",
    "    plt.plot(shifts_fiola)\n",
    "    plt.xlabel('Frames')\n",
    "    plt.ylabel('Pixels')                 \n",
    "    plt.legend(['X shifts', 'Y shifts'])\n",
    "    plt.title('X and Y shifts used for motion correction')"
   ]
  },
  {
   "cell_type": "code",
   "execution_count": null,
   "metadata": {},
   "outputs": [],
   "source": [
    "if motion_correct:\n",
    "    ds_ratio = 0.2\n",
    "    moviehandle = cm.concatenate([mov.resize(1, 1, ds_ratio),\n",
    "                                  cm.movie(mc_nn_mov).resize(1, 1, ds_ratio)], axis=2)\n",
    "    moviehandle.play(fr=30, q_max=99.5, magnification=4)  # press q to exit"
   ]
  },
  {
   "cell_type": "markdown",
   "metadata": {
    "id": "luDU8m4T74My"
   },
   "source": [
    "# GPU source extraction"
   ]
  },
  {
   "cell_type": "code",
   "execution_count": null,
   "metadata": {
    "colab": {
     "background_save": true
    },
    "id": "6JVAVd3krHvl"
   },
   "outputs": [],
   "source": [
    "#%% NNLS only\n",
    "if do_nnls:\n",
    "    params = fiolaparams(params_dict=options)\n",
    "    fio = FIOLA(params=params)\n",
    "    if mode == 'voltage':\n",
    "        A = scipy.sparse.coo_matrix(to_2D(mask, order='F')).T\n",
    "        fio.fit_hals(mc_nn_mov, A)\n",
    "        Ab = fio.Ab # Ab includes spatial masks of all neurons and background\n",
    "    else:\n",
    "        Ab = np.hstack((estimates.A.toarray(), estimates.b))\n",
    "    trace_fiola, _ = fio.fit_gpu_nnls(mc_nn_mov, Ab, batch_size=fio.params.mc_nnls['offline_batch']) \n",
    "\n",
    "else: \n",
    "    if mode == 'calcium':# use traces of CaImAn       \n",
    "        if trace_with_neg == True:\n",
    "            trace_fiola = np.vstack((estimates.C+estimates.YrA, estimates.f))\n",
    "        else:\n",
    "            trace_fiola = estimates.C+estimates.YrA\n",
    "            trace_fiola[trace_fiola < 0] = 0\n",
    "            trace_fiola = np.vstack((trace_fiola, estimates.f))"
   ]
  },
  {
   "cell_type": "code",
   "execution_count": null,
   "metadata": {},
   "outputs": [],
   "source": [
    "if do_nnls:\n",
    "    plt.figure()\n",
    "    plt.plot(trace_fiola[:-nb].T)\n",
    "    plt.xlabel('Frames')\n",
    "    plt.ylabel('Fluorescence signal') \n",
    "    plt.title('Extracted traces for all neurons')   "
   ]
  },
  {
   "cell_type": "markdown",
   "metadata": {
    "id": "07F_i6LV8FbV"
   },
   "source": [
    "# Set up whole pipeline with initialization"
   ]
  },
  {
   "cell_type": "code",
   "execution_count": null,
   "metadata": {
    "colab": {
     "background_save": true
    },
    "id": "gr1Mf47qXhqP"
   },
   "outputs": [],
   "source": [
    "#%% set up online pipeline\n",
    "params = fiolaparams(params_dict=options)\n",
    "fio = FIOLA(params=params)\n",
    "if mode == 'voltage': # not thoroughly tested and computationally intensive for large files, it will estimate the baseline\n",
    "    fio.fit_hals(mc_nn_mov, A)\n",
    "    Ab = fio.Ab\n",
    "else:\n",
    "    Ab = np.hstack((estimates.A.toarray(), estimates.b))\n",
    "Ab = Ab.astype(np.float32)        \n",
    "fio = fio.create_pipeline(mc_nn_mov, trace_fiola, template, Ab, min_mov=mov.min())"
   ]
  },
  {
   "cell_type": "markdown",
   "metadata": {
    "id": "sFCsTVzy8SQh"
   },
   "source": [
    "# Online analysis"
   ]
  },
  {
   "cell_type": "code",
   "execution_count": null,
   "metadata": {
    "colab": {
     "background_save": true
    },
    "id": "4HHtV0XgXhqP"
   },
   "outputs": [],
   "source": [
    "time_per_step = np.zeros((num_frames_total-num_frames_init) // batch)\n",
    "online_trace = np.zeros((fio.Ab.shape[-1], num_frames_total-num_frames_init), dtype=np.float32)\n",
    "online_trace_deconvolved = np.zeros((fio.Ab.shape[-1] - fio.params.hals['nb'], num_frames_total-num_frames_init), dtype=np.float32)\n",
    "start = time()\n",
    "    \n",
    "for idx, memmap_image in movie_iterator(fnames, num_frames_init, num_frames_total, batch_size=batch):\n",
    "    if idx % 1000 == 0:\n",
    "            print(f'processed {idx} frames')        \n",
    "    fio.fit_online_frame(memmap_image) \n",
    "    online_trace[:, idx-num_frames_init:idx-num_frames_init+batch] = fio.pipeline.saoz.trace[:,idx-batch:idx]\n",
    "    online_trace_deconvolved[:, idx-num_frames_init:idx-num_frames_init+batch] = fio.pipeline.saoz.trace_deconvolved[:,idx-batch-fio.params.retrieve['lag']:idx-fio.params.retrieve['lag']]\n",
    "    time_per_step[(idx-num_frames_init)//batch] = (time()-start)\n",
    "\n",
    "fio.pipeline.saoz.online_trace = online_trace\n",
    "fio.pipeline.saoz.online_trace_deconvolved = online_trace_deconvolved\n",
    "logging.info(f'total time online: {time()-start}')\n",
    "logging.info(f'time per frame online: {(time()-start)/(num_frames_total-num_frames_init)}')\n"
   ]
  },
  {
   "cell_type": "code",
   "execution_count": null,
   "metadata": {},
   "outputs": [],
   "source": [
    "plt.figure()\n",
    "plt.stackplot(range(len(np.diff(time_per_step))), np.diff(time_per_step)*1000)\n",
    "plt.xlabel('Frames')\n",
    "plt.ylabel('Time (ms)')\n",
    "plt.title('Time per frame')"
   ]
  },
  {
   "cell_type": "markdown",
   "metadata": {
    "id": "3aczgoQ88Wft"
   },
   "source": [
    "# Visualization"
   ]
  },
  {
   "cell_type": "code",
   "execution_count": null,
   "metadata": {},
   "outputs": [],
   "source": [
    "%matplotlib auto"
   ]
  },
  {
   "cell_type": "code",
   "execution_count": null,
   "metadata": {},
   "outputs": [],
   "source": [
    "fio.compute_estimates()\n",
    "visualize(fio, img=template)"
   ]
  },
  {
   "cell_type": "code",
   "execution_count": null,
   "metadata": {
    "colab": {
     "background_save": true
    },
    "id": "_TvSmw4hXhqQ"
   },
   "outputs": [],
   "source": [
    "#%% save result\n",
    "if True:\n",
    "        np.save(folder + f'/fiola_result', fio.estimates)"
   ]
  }
 ],
 "metadata": {
  "accelerator": "GPU",
  "colab": {
   "provenance": []
  },
  "kernelspec": {
   "display_name": "Python 3 (ipykernel)",
   "language": "python",
   "name": "python3"
  },
  "language_info": {
   "codemirror_mode": {
    "name": "ipython",
    "version": 3
   },
   "file_extension": ".py",
   "mimetype": "text/x-python",
   "name": "python",
   "nbconvert_exporter": "python",
   "pygments_lexer": "ipython3",
   "version": "3.8.0"
  }
 },
 "nbformat": 4,
 "nbformat_minor": 1
}
